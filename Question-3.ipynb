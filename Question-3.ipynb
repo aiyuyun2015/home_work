{
 "cells": [
  {
   "cell_type": "markdown",
   "id": "progressive-accordance",
   "metadata": {
    "toc": "true"
   },
   "source": [
    "# Table of Contents\n",
    " <p><div class=\"lev1 toc-item\"><a href=\"#Trinomial-Tree-Pricing-Implementation\" data-toc-modified-id=\"Trinomial-Tree-Pricing-Implementation-1\"><span class=\"toc-item-num\">1&nbsp;&nbsp;</span>Trinomial Tree Pricing Implementation</a></div><div class=\"lev1 toc-item\"><a href=\"#Black-Schole-Model\" data-toc-modified-id=\"Black-Schole-Model-2\"><span class=\"toc-item-num\">2&nbsp;&nbsp;</span>Black-Schole Model</a></div><div class=\"lev1 toc-item\"><a href=\"#Generate-Results\" data-toc-modified-id=\"Generate-Results-3\"><span class=\"toc-item-num\">3&nbsp;&nbsp;</span>Generate Results</a></div><div class=\"lev2 toc-item\"><a href=\"#Euro-Option-Comparison-(BS-vs-Tree-Model)\" data-toc-modified-id=\"Euro-Option-Comparison-(BS-vs-Tree-Model)-31\"><span class=\"toc-item-num\">3.1&nbsp;&nbsp;</span>Euro Option Comparison (BS vs Tree Model)</a></div><div class=\"lev2 toc-item\"><a href=\"#American-Option-Comparison-(Tree-Model-vs-Rpackage_AmericanCallOpt)\" data-toc-modified-id=\"American-Option-Comparison-(Tree-Model-vs-Rpackage_AmericanCallOpt)-32\"><span class=\"toc-item-num\">3.2&nbsp;&nbsp;</span>American Option Comparison (Tree Model vs Rpackage_AmericanCallOpt)</a></div><div class=\"lev1 toc-item\"><a href=\"#Tests\" data-toc-modified-id=\"Tests-4\"><span class=\"toc-item-num\">4&nbsp;&nbsp;</span>Tests</a></div><div class=\"lev2 toc-item\"><a href=\"#Test-implied-volatility\" data-toc-modified-id=\"Test-implied-volatility-41\"><span class=\"toc-item-num\">4.1&nbsp;&nbsp;</span>Test implied volatility</a></div><div class=\"lev2 toc-item\"><a href=\"#Test-greeks\" data-toc-modified-id=\"Test-greeks-42\"><span class=\"toc-item-num\">4.2&nbsp;&nbsp;</span>Test greeks</a></div><div class=\"lev2 toc-item\"><a href=\"#Test-Trinomial-Tree\" data-toc-modified-id=\"Test-Trinomial-Tree-43\"><span class=\"toc-item-num\">4.3&nbsp;&nbsp;</span>Test Trinomial Tree</a></div>"
   ]
  },
  {
   "cell_type": "markdown",
   "id": "peaceful-cabinet",
   "metadata": {},
   "source": [
    "# Trinomial Tree Pricing Implementation"
   ]
  },
  {
   "cell_type": "code",
   "execution_count": 1,
   "id": "relevant-municipality",
   "metadata": {},
   "outputs": [],
   "source": [
    "import numpy as np\n",
    "from collections import deque\n",
    "import numpy as np\n",
    "import matplotlib.pyplot as plt\n",
    "from threading import Thread\n",
    "import numpy as np\n",
    "import scipy.stats as si\n",
    "import sympy as sy\n",
    "from sympy.stats import Normal, cdf\n",
    "from sympy import init_printing\n",
    "import scipy.stats\n",
    "import scipy.stats as scistat\n",
    "import pandas as pd"
   ]
  },
  {
   "cell_type": "code",
   "execution_count": 2,
   "id": "nominated-cleaning",
   "metadata": {},
   "outputs": [],
   "source": [
    "from functools import partialmethod"
   ]
  },
  {
   "cell_type": "code",
   "execution_count": 3,
   "id": "impressed-blackberry",
   "metadata": {},
   "outputs": [],
   "source": [
    "class CompressedTree:\n",
    "    '''\n",
    "    Used for underlying price tree. Only last branch is saved to\n",
    "    compress the data.\n",
    "    '''\n",
    "    def __init__(self, height, d, S0):\n",
    "#         self.data = []\n",
    "#         for i in range(2*height + 1):\n",
    "#             self.data.append(d ** (height - i))\n",
    "# #         self.data = [d**(height)]\n",
    "# #         i = 0\n",
    "# #         while i < 2*height + 1:\n",
    "# #             self.data.append(self.data[-1]/d)\n",
    "            \n",
    "        self.data = S0*np.cumprod(np.ones(shape=(2*height+1)) / d) * d** (height+1)        \n",
    "        self.data = np.array(self.data)\n",
    "        self.height = height\n",
    "    def __str__(self):\n",
    "        strs = \"\"\n",
    "        for i in range(self.height+1):\n",
    "            if i!=0: strs +=\"\\n\"\n",
    "            for j in range(0, 2*i+1, 1):\n",
    "                strs+= str(self[i,j]) +\", \"\n",
    "        return strs\n",
    "    def __getitem__(self, grid):\n",
    "        t, j = grid\n",
    "        return self.data[self.height - t + j]      "
   ]
  },
  {
   "cell_type": "code",
   "execution_count": 4,
   "id": "individual-lincoln",
   "metadata": {},
   "outputs": [],
   "source": [
    "import warnings"
   ]
  },
  {
   "cell_type": "code",
   "execution_count": 5,
   "id": "sweet-beatles",
   "metadata": {},
   "outputs": [],
   "source": [
    "def call_payoff(x, K):\n",
    "    return np.maximum(x - K, 0)\n",
    "\n",
    "def put_payoff(x, K):\n",
    "    return np.maximum(K - x, 0)\n",
    "\n",
    "def first_order_derivative(up, down, shift):\n",
    "    return (up - down) / (2*shift)\n",
    "\n",
    "\n",
    "def newtons(f, fprime, target, err=1e-3, start=0.25, max_iter=100):\n",
    "\n",
    "    x1 = start\n",
    "    counter = 0\n",
    "    estimated = f(x1)\n",
    "    while np.abs(estimated - target) > err:\n",
    "        price, vega = f(x1), fprime(x1)\n",
    "        x2 = x1 - (price - target)/vega\n",
    "        x1 = x2\n",
    "        counter += 1\n",
    "        if counter > max_iter:\n",
    "            warnings.warn(\"Iteration reach max_iter%d \"% max_iter)\n",
    "            return x1\n",
    "    return x1\n",
    "\n",
    "def bisection(f, target, start=1e-3, end=1, err=1e-3, max_iter=100):\n",
    "    mid = (start + end)/2.0\n",
    "    counter = 0\n",
    "    while np.abs(f(mid) - target) > err:\n",
    "        if counter > max_iter:\n",
    "            warnings.warn(\"Iteration reach max_iter%d\"% max_iter)\n",
    "            return mid\n",
    "        if f(mid) > target:\n",
    "            end = mid\n",
    "        else:\n",
    "            start = mid\n",
    "        mid = (start + end)/2.0\n",
    "        counter += 1\n",
    "    return mid\n",
    "        \n",
    "\n",
    "        \n",
    "\n",
    "class TrinomialTreeModel:\n",
    "    def __init__(self, S, K, T, r, q, sigma=None, C=None,\n",
    "                 exercise=False, payoff=call_payoff, n=100):\n",
    "        self.S = S\n",
    "        self.K = K\n",
    "        self.T = T\n",
    "        self.r = r\n",
    "        self.q = q\n",
    "        self.sigma = sigma\n",
    "        self.C = C\n",
    "        self.n = n\n",
    "        self.exercise = exercise\n",
    "        self.payoff = payoff\n",
    "        self.op_tree = np.zeros([1+self.n,2*self.n+1])\n",
    "        self.early_optimal = None\n",
    "        #self.npv()\n",
    "        \n",
    "    @staticmethod\n",
    "    def specify_condition(price_tree, K, payoff):\n",
    "        return payoff(price_tree.data, K)        \n",
    "\n",
    "    def compute_probs(self):\n",
    "        # T, sigma, r, q, will trigger the call\n",
    "        self.dt = self.T/self.n\n",
    "        self.u = np.exp(self.sigma*np.sqrt(2*self.dt))\n",
    "        self.d = 1/self.u\n",
    "        self.m = 1\n",
    "        e1 = np.exp((self.r-self.q)*self.dt/2.)\n",
    "        e2 = np.exp(self.sigma*np.sqrt(self.dt/2.))\n",
    "        self.p_u = ((e1 - 1/e2)/(e2 - 1/e2))**2\n",
    "        self.p_d = ((e2 - e1)/(e2 - 1/e2))**2\n",
    "        self.p_m = 1- (self.p_u + self.p_d)\n",
    "        \n",
    "#     def compute_probs(self):\n",
    "#         # T, sigma, r, q, will trigger the call\n",
    "#         self.dt = self.T/self.n\n",
    "#         self.u = np.exp(self.sigma*np.sqrt(3*self.dt))\n",
    "#         self.d = 1/self.u\n",
    "#         self.m = 1\n",
    "#         e1 = np.sqrt(self.dt/(12*self.sigma**2))*(self.r-self.q - 0.5*self.sigma**2)\n",
    "#         e2 = 1.0/6\n",
    "#         if False:\n",
    "#             print('r:{},t:{},u:{},d:{},q:{},sigma:{}'.format(self.r, self.dt, self.u,self.d, self.q, self.sigma))\n",
    "#             print(\"e1:{}, e2:{}\".format(e1, e2))\n",
    "#             print(\"denom1:{}, denom2:{}\".format(e2-1/e2, e2-1/e2))\n",
    "#         self.p_u =  e1 + e2\n",
    "#         self.p_d = -e1 + e2\n",
    "#         self.p_m = 1- (self.p_u + self.p_d)\n",
    "        #print(self.d, self.u)\n",
    "        \n",
    "        \n",
    "    def calc_underlying_price_tree(self):\n",
    "        self.underlying = CompressedTree(self.n, self.d, \n",
    "                                         self.S)\n",
    "    def adjust_american(self, i, j):\n",
    "        exercied = self.payoff(self.underlying[i, j], self.K)\n",
    "        if self.op_tree[i,j] < exercied:\n",
    "            self.early_optimal = True\n",
    "            self.op_tree[i,j] = exercied\n",
    "        else:\n",
    "            self.early_optimal = False\n",
    "            self.op_tree[i,j] = self.op_tree[i,j]       \n",
    "    \n",
    "    def stepback(self, to=0):\n",
    "        for i in np.arange(self.n-1,to-1,-1):\n",
    "            for j in np.arange(0,2*i+1):\n",
    "                u_p = self.op_tree[i+1,j+2]\n",
    "                m_p = self.op_tree[i+1,j+1]\n",
    "                d_p = self.op_tree[i+1,j]\n",
    "                self.op_tree[i,j]= np.exp(-self.r * self.dt)\\\n",
    "                                * (self.p_u*u_p + self.p_m*m_p + self.p_d*d_p)\n",
    "                if self.exercise:\n",
    "                    self.adjust_american(i,j)\n",
    "        return self.op_tree\n",
    "    \n",
    "    def npv(self, shifted=True):\n",
    "        self.compute_probs()\n",
    "        self.calc_underlying_price_tree()\n",
    "        self.op_tree[-1:] = self.specify_condition(\n",
    "                                self.underlying, self.K, \n",
    "                                self.payoff)\n",
    "        self.stepback()\n",
    "        self.C = self.op_tree[0,0]\n",
    "        return self.op_tree[0,0]\n",
    "    \n",
    "    def implied_vol(self, algo='bisection', C=None, start=1e-3, end=1, err=1e-3, max_iter=100):\n",
    "        if self.C is None:\n",
    "            raise RuntimeEerror(\"Option price missing.\")\n",
    "        if C is None: C = self.C \n",
    "\n",
    "        def f_sigma(sigma):\n",
    "            self.adjust_prop('sigma', sigma)\n",
    "            return self.npv()\n",
    "            \n",
    "        def fprime_sigma(sigma):\n",
    "            self.adjust_prop('sigma', sigma)\n",
    "            return self.vega()\n",
    "        \n",
    "        if algo==\"bisection\":\n",
    "            return bisection(f_sigma, C, start, end, err, max_iter)\n",
    "        elif algo==\"newton\":\n",
    "            return newtons(f_sigma, fprime_sigma, C, err=err, start=start, max_iter=max_iter)\n",
    "        else:\n",
    "            raise RuntimeError(\"Support bisection or newton.\")\n",
    "\n",
    "    def delta_approx(self, shift=0.01):\n",
    "        self.npv()  \n",
    "        return (self.op_tree[1, 1] - self.op_tree[1, 0])\\\n",
    "                /(self.underlying[1,1] - self.underlying[1,0])\n",
    "\n",
    "    def delta(self, shift=0.01):\n",
    "        return self._vary('S', shift)\n",
    "  \n",
    "    def gamma_approx(self):\n",
    "        # reset tree\n",
    "        self.npv()  \n",
    "        \n",
    "        delta_11 = (self.op_tree[2, 2] - self.op_tree[2, 1])\\\n",
    "                    /(self.underlying[2,2] - self.underlying[2,1])\n",
    "\n",
    "        delta_10 = (self.op_tree[2, 1] - self.op_tree[2, 0])\\\n",
    "                    /(self.underlying[2,1] - self.underlying[2,0])\n",
    "        \n",
    "        shift = 0.5 * (self.underlying[2,2] - self.underlying[2,0])\n",
    "        \n",
    "        return (delta_11 - delta_10)/(shift)\n",
    "    \n",
    "    def gamma(self, shift=0.01):\n",
    "    \n",
    "        return self._vary2('S', shift)\n",
    "        \n",
    "    def theta_approx(self):\n",
    "        self.npv()  \n",
    "        return (self.op_tree[2, 1] - self.op_tree[0, 0])/(2*self.dt)\n",
    "    \n",
    "    def theta(self, shift=0.01):\n",
    "        return -self._vary('T', shift)\n",
    " \n",
    "    def vega(self, shift=0.01):\n",
    "        return self._vary('sigma', shift)\n",
    "    \n",
    "    def rho(self, shift=0.01):\n",
    "        return self._vary('r', shift)\n",
    "\n",
    "    def adjust_prop(self, prop, val):\n",
    "        setattr(self, prop, val)\n",
    "    \n",
    "    def _vary(self, prop, shift=0.01):\n",
    "        val = getattr(self, prop) \n",
    "        self.adjust_prop(prop, val + shift)\n",
    "        up = self.npv()\n",
    "        self.adjust_prop(prop, val - shift)\n",
    "        down = self.npv()\n",
    "        self.adjust_prop(prop, val)\n",
    "        \n",
    "        return first_order_derivative(up, down, shift)\n",
    "    \n",
    "    def _vary2(self, prop, shift=0.01):    \n",
    "        mid = self.npv()\n",
    "        val = getattr(self, prop) \n",
    "        self.adjust_prop(prop, val + shift)\n",
    "        up = self.npv()\n",
    "        self.adjust_prop(prop, val - shift)\n",
    "        down = self.npv()\n",
    "        self.adjust_prop(prop, val)\n",
    "        print(\"up\",up, 'donw',down,'mid',mid,'shift',shift)\n",
    "        return (up - 2 * mid + down)/(shift**2)\n",
    "    \n",
    "    \n",
    "    def greeks(self, shift=0.01):\n",
    "        dict = {}\n",
    "        dict['price'] = self.npv()\n",
    "        dict['delta'] = self.delta(shift)\n",
    "        dict['gamma'] = self.gamma_approx()\n",
    "        dict['theta'] = self.theta(shift)\n",
    "        dict['rho']   = self.rho(shift)\n",
    "        dict['vega']  = self.vega(shift)\n",
    "        return dict"
   ]
  },
  {
   "cell_type": "markdown",
   "id": "novel-murder",
   "metadata": {},
   "source": [
    "Test call greeks\n",
    "\n",
    "price 2.926514379207199 2.927\n",
    "\n",
    "delta 0.47222457591016564 0.472\n",
    "\n",
    "gamma 0.03615245110316698 0.036\n",
    "\n",
    "theta -0.7877531464427451 -0.788\n",
    "\n",
    "rho 19.55393141698834 19.554\n",
    "\n",
    "vega 13.014882397140111 13.015\n"
   ]
  },
  {
   "cell_type": "code",
   "execution_count": 6,
   "id": "scheduled-judges",
   "metadata": {},
   "outputs": [],
   "source": [
    "test_input1 = {'S':20, 'K':25, 'T':3, 'r':0.05, 'q':0.02,\\\n",
    "               'sigma':0.3, 'C':2.92, 'exercise':False, 'payoff':call_payoff, 'n':200}\n",
    "model = TrinomialTreeModel(**test_input1)"
   ]
  },
  {
   "cell_type": "code",
   "execution_count": 7,
   "id": "under-tissue",
   "metadata": {
    "scrolled": true
   },
   "outputs": [
    {
     "data": {
      "text/plain": [
       "0.2994073486328125"
      ]
     },
     "execution_count": 7,
     "metadata": {},
     "output_type": "execute_result"
    }
   ],
   "source": [
    "\n",
    "model.implied_vol('bisection')"
   ]
  },
  {
   "cell_type": "markdown",
   "id": "efficient-responsibility",
   "metadata": {},
   "source": [
    "# Black-Schole Model"
   ]
  },
  {
   "cell_type": "code",
   "execution_count": 8,
   "id": "renewable-performer",
   "metadata": {},
   "outputs": [],
   "source": [
    "def d1(S, K, T, r, q, sigma):\n",
    "    return (np.log(S/K) + (r-q + sigma*sigma/2)*T)/(sigma*np.sqrt(T))\n",
    "\n",
    "def d2(S, K, T, r, q, sigma):\n",
    "    return d1(S, K, T, r, q, sigma) - sigma*np.sqrt(T)"
   ]
  },
  {
   "cell_type": "code",
   "execution_count": 9,
   "id": "official-hometown",
   "metadata": {},
   "outputs": [],
   "source": [
    "class Call:    \n",
    "    def __init__(self, S, K, T, r, q, sigma):\n",
    "        self.params = {'S':S,'K':K,'T':T,'r':r,'q':q,'sigma':sigma}\n",
    "        self.d1 = d1(S, K, T, r, q, sigma)\n",
    "        self.d2 = d2(S, K, T, r, q, sigma)\n",
    "        self.exp_q = np.exp(-q*T)\n",
    "\n",
    "    def price(self, S, K, T, r, q, sigma):\n",
    "        return S*self.exp_q *scistat.norm.cdf(self.d1) - \\\n",
    "                K*np.exp(-r*T)*scistat.norm.cdf(self.d2)\n",
    "\n",
    "    def delta(self, S, K, T, r, q, sigma):\n",
    "        return self.exp_q*scistat.norm.cdf(self.d1)\n",
    "\n",
    "    def gamma(self, S, K, T, r, q, sigma):\n",
    "        return self.exp_q*scistat.norm.pdf(self.d1)/(S*sigma*np.sqrt(T))\n",
    "\n",
    "    def theta(self, S, K, T, r, q, sigma):\n",
    "        aux1 =  S*self.exp_q*q*scistat.norm.cdf(self.d1)\n",
    "        aux2 = -S*self.exp_q*sigma*scistat.norm.pdf(self.d1)/(2*np.sqrt(T))\n",
    "        aux3 = -r*K*np.exp(-r*T)*scistat.norm.cdf(self.d2)\n",
    "        \n",
    "        return aux1 + aux2 + aux3\n",
    "\n",
    "    def rho(self, S, K, T, r, q, sigma):\n",
    "        return K*T*np.exp(-r*T)*scistat.norm.cdf(self.d2)\n",
    "    \n",
    "    def vega(self, S, K, T, r, q, sigma):\n",
    "        return np.sqrt(T)*S*self.exp_q*scistat.norm.pdf(self.d1)\n",
    "    \n",
    "    def greeks(self):   \n",
    "        dict = {}\n",
    "        dict['price'] = self.price(**self.params)\n",
    "        dict['delta'] = self.delta(**self.params)\n",
    "        dict['gamma'] = self.gamma(**self.params)\n",
    "        dict['theta'] = self.theta(**self.params)\n",
    "        dict['rho']   = self.rho(**self.params)\n",
    "        dict['vega']  = self.vega(**self.params)\n",
    "        return dict\n",
    "        \n",
    "        \n",
    "        \n",
    "        "
   ]
  },
  {
   "cell_type": "code",
   "execution_count": null,
   "id": "raising-neighborhood",
   "metadata": {},
   "outputs": [],
   "source": []
  },
  {
   "cell_type": "code",
   "execution_count": 10,
   "id": "advised-french",
   "metadata": {},
   "outputs": [],
   "source": [
    "class Put:    \n",
    "    def __init__(self, S, K, T, r, q, sigma):\n",
    "        self.params = {'S':S,'K':K,'T':T,'r':r,'q':q,'sigma':sigma}\n",
    "\n",
    "        self.d1 = d1(S, K, T, r, q, sigma)\n",
    "        self.d2 = d2(S, K, T, r, q, sigma)\n",
    "        self.exp_q = np.exp(-q*T)\n",
    "    \n",
    "    def price(self, S, K, T, r, q, sigma):\n",
    "        return -S*np.exp(-q*T) *scistat.norm.cdf(- d1(S, K, T, r, q, sigma)) \\\n",
    "                + K*np.exp(-r*T)*scistat.norm.cdf(-d2(S, K, T, r, q, sigma))\n",
    "\n",
    "    def delta(self, S, K, T, r, q, sigma):\n",
    "        return self.exp_q*(scistat.norm.cdf(self.d1) -1 )\n",
    "\n",
    "    def gamma(self, S, K, T, r, q, sigma):\n",
    "        return self.exp_q*scistat.norm.pdf(self.d1)/(S*sigma*np.sqrt(T))\n",
    "\n",
    "    def theta(self, S, K, T, r, q, sigma):\n",
    "        aux1 = -S*self.exp_q*q*scistat.norm.cdf(-self.d1)\n",
    "        aux2 = -S*self.exp_q*sigma*scistat.norm.pdf(self.d1)/(2*np.sqrt(T))\n",
    "        aux3 = r*K*np.exp(-r*T)*scistat.norm.cdf(-self.d2)\n",
    "        \n",
    "        return aux1 + aux2 + aux3\n",
    "\n",
    "    def rho(self, S, K, T, r, q, sigma):\n",
    "        return -K*T*np.exp(-r*T)*scistat.norm.cdf(-self.d2)\n",
    "    \n",
    "    def vega(self, S, K, T, r, q, sigma):\n",
    "        return np.sqrt(T)*S*self.exp_q*scistat.norm.pdf(d1(S, K, T, r, q, sigma))\n",
    "\n",
    "    def greeks(self):   \n",
    "        dict = {}\n",
    "        dict['price'] = self.price(**self.params)\n",
    "        dict['delta'] = self.delta(**self.params)\n",
    "        dict['gamma'] = self.gamma(**self.params)\n",
    "        dict['theta'] = self.theta(**self.params)\n",
    "        dict['rho']   = self.rho(**self.params)\n",
    "        dict['vega']  = self.vega(**self.params)\n",
    "        return dict"
   ]
  },
  {
   "cell_type": "markdown",
   "id": "polish-louisville",
   "metadata": {},
   "source": [
    "# Generate Results"
   ]
  },
  {
   "cell_type": "markdown",
   "id": "stylish-florida",
   "metadata": {},
   "source": [
    "\n",
    "## Euro Option Comparison (BS vs Tree Model)"
   ]
  },
  {
   "cell_type": "code",
   "execution_count": 11,
   "id": "difficult-pointer",
   "metadata": {},
   "outputs": [],
   "source": [
    "# tree\n",
    "common_params = {'S':42, 'K':40, 'T':0.75, 'r':0.04, 'q':0.08,\\\n",
    "               'sigma':0.35,}\n",
    "\n",
    "euro_call = {**common_params, **{'exercise':False, 'payoff':call_payoff, 'n':400}}\n",
    "euro_put = {**common_params, **{'exercise':False, 'payoff':put_payoff, 'n':400}}\n",
    "\n",
    "# black schole call\n",
    "bs_call = Call(**common_params)\n",
    "data = bs_call.greeks()\n",
    "bs_call_df = pd.DataFrame(data.values(), columns=['Black_schole(call)'], index=data.keys())\n",
    "\n",
    "# tree model call\n",
    "model = TrinomialTreeModel(**euro_call)\n",
    "data = model.greeks()\n",
    "tree_call_df = pd.DataFrame(data.values(), columns=['Tree_Euro(call)'], index=data.keys())\n",
    "\n",
    "\n",
    "# black schole put\n",
    "bs_call = Put(**common_params)\n",
    "data = bs_call.greeks()\n",
    "bs_put_df = pd.DataFrame(data.values(), columns=['Black_schole(put)'], index=data.keys())\n",
    "\n",
    "# tree model put\n",
    "model = TrinomialTreeModel(**euro_put)\n",
    "data = model.greeks()\n",
    "tree_put_df = pd.DataFrame(data.values(), columns=['Tree_Euro(put)'], index=data.keys())\n",
    "\n",
    "\n",
    "# R result\n",
    "Rpacakge_results = {'price':5.098, 'delta':0.551, 'gamma':0.029,'theta':-1.988,'vega':13.358,'rho':13.518}\n",
    "r_call_df = pd.DataFrame(Rpacakge_results.values(), columns=['R_results(call)'], index=Rpacakge_results.keys())\n",
    "\n",
    "Rpacakge_results = {'price':4.361, 'delta':-0.391, 'gamma':0.029,'theta':-3.600,'vega':13.358,'rho':-15.596}\n",
    "r_put_df = pd.DataFrame(Rpacakge_results.values(), columns=['R_results(put)'], index=Rpacakge_results.keys())"
   ]
  },
  {
   "cell_type": "code",
   "execution_count": 12,
   "id": "adult-contribution",
   "metadata": {},
   "outputs": [],
   "source": [
    "df = pd.concat([bs_call_df, tree_call_df, r_call_df, bs_put_df, tree_put_df, r_put_df], axis=1)"
   ]
  },
  {
   "cell_type": "code",
   "execution_count": 13,
   "id": "presidential-request",
   "metadata": {},
   "outputs": [],
   "source": [
    "for i in ['call','put']:\n",
    "    df['Euro_%s_rel_error(%%)'%i]  = ((df['Tree_Euro(%s)'%i] - df['Black_schole(%s)'%i])/df['Black_schole(%s)'%i] *100).astype(int)\n"
   ]
  },
  {
   "cell_type": "code",
   "execution_count": 14,
   "id": "relative-christianity",
   "metadata": {
    "scrolled": true
   },
   "outputs": [],
   "source": [
    "df.to_csv(\"bs_vs_tree_euro.csv\")"
   ]
  },
  {
   "cell_type": "markdown",
   "id": "russian-valley",
   "metadata": {},
   "source": [
    "## American Option Comparison (Tree Model vs Rpackage_AmericanCallOpt)"
   ]
  },
  {
   "cell_type": "code",
   "execution_count": 15,
   "id": "automotive-outdoors",
   "metadata": {},
   "outputs": [],
   "source": [
    "common_params = {'S':42, 'K':40, 'T':0.75, 'r':0.04, 'q':0.00,\\\n",
    "               'sigma':0.35,}\n",
    "N = int(common_params['T']*365)\n",
    "\n",
    "american_call = {**common_params, **{'exercise':True, 'payoff':call_payoff, 'n':N}}\n",
    "american_put = {**common_params, **{'exercise':True, 'payoff':put_payoff, 'n':N}}\n",
    "\n",
    "# tree model, american call \n",
    "model = TrinomialTreeModel(**american_call)\n",
    "data = model.greeks()\n",
    "am_call_df = pd.DataFrame(data.values(), columns=['Tree_American(call)'], index=data.keys())\n",
    "\n",
    "# tree model, american put\n",
    "model = TrinomialTreeModel(**american_put)\n",
    "data = model.greeks()\n",
    "am_put_df = pd.DataFrame(data.values(), columns=['Tree_American(put)'], index=data.keys())\n",
    "\n",
    "\n",
    "# R packages, call\n",
    "Rpacakge_results = {'price':6.623595, 'delta':0.6596053, 'gamma':0.02881365,'theta':3528.627,'vega':13.36975,'rho':15.97369}\n",
    "r_am_df = pd.DataFrame(Rpacakge_results.values(), columns=['R_results(call)'], index=Rpacakge_results.keys())\n"
   ]
  },
  {
   "cell_type": "code",
   "execution_count": 16,
   "id": "earned-nepal",
   "metadata": {},
   "outputs": [],
   "source": [
    "df = pd.concat([am_call_df, am_put_df,r_am_df], axis=1)"
   ]
  },
  {
   "cell_type": "code",
   "execution_count": 17,
   "id": "working-charm",
   "metadata": {
    "scrolled": true
   },
   "outputs": [],
   "source": [
    "df.to_csv(\"american.csv\")"
   ]
  },
  {
   "cell_type": "markdown",
   "id": "armed-reception",
   "metadata": {},
   "source": [
    "# Tests "
   ]
  },
  {
   "cell_type": "markdown",
   "id": "functional-guinea",
   "metadata": {},
   "source": [
    "## Test implied volatility"
   ]
  },
  {
   "cell_type": "code",
   "execution_count": 18,
   "id": "selective-entity",
   "metadata": {},
   "outputs": [
    {
     "name": "stdout",
     "output_type": "stream",
     "text": [
      "true_vol 0.06\n",
      "bs   implied vol(newton):0.060, bisect:0.060\n",
      "tree implied vol(newton):N/A, bisect:0.060\n",
      "****************************************\n",
      "true_vol 0.1\n",
      "bs   implied vol(newton):0.100, bisect:0.100\n"
     ]
    },
    {
     "name": "stderr",
     "output_type": "stream",
     "text": [
      "<ipython-input-5-ffd7777c963f>:22: UserWarning: Iteration reach max_iter100 \n",
      "  warnings.warn(\"Iteration reach max_iter%d \"% max_iter)\n"
     ]
    },
    {
     "name": "stdout",
     "output_type": "stream",
     "text": [
      "tree implied vol(newton):N/A, bisect:0.100\n",
      "****************************************\n",
      "true_vol 0.2\n",
      "bs   implied vol(newton):0.200, bisect:0.200\n",
      "tree implied vol(newton):N/A, bisect:0.200\n",
      "****************************************\n",
      "true_vol 0.3\n",
      "bs   implied vol(newton):0.300, bisect:0.300\n",
      "tree implied vol(newton):N/A, bisect:0.299\n",
      "****************************************\n",
      "true_vol 0.4\n",
      "bs   implied vol(newton):0.400, bisect:0.400\n",
      "tree implied vol(newton):N/A, bisect:0.400\n",
      "****************************************\n"
     ]
    }
   ],
   "source": [
    "#def bisection(f, target, start=1e-3, end=1, err=1e-4, max_iter=20):\n",
    "\n",
    "\n",
    "S, K, T, r, q  = 110, 100, 1, 0.09, 0.0\n",
    "#print(\"price:{:.3f}\".format(price))\n",
    "\n",
    "\n",
    "for true_sigma in [0.06, 0.1, 0.2, 0.3, 0.4]:\n",
    "    print(\"true_vol\", true_sigma)\n",
    "    \n",
    "    def bs_f(sigma):\n",
    "        model = Call(S, K, T, r, q, sigma)\n",
    "        return model.price(S, K, T, r, q, sigma)\n",
    "\n",
    "    def bs_fprime(sigma):\n",
    "        model = Call(S, K, T, r, q, sigma)\n",
    "        return model.vega(S, K, T, r, q, sigma)\n",
    "    price = bs_f(true_sigma)\n",
    "    vol_newton = newtons(bs_f, bs_fprime, price)\n",
    "    vol_bisec = bisection(bs_f, price)\n",
    "    print(\"bs   implied vol(newton):{:.3f}, bisect:{:.3f}\".format(vol_newton, vol_bisec)) \n",
    "    \n",
    "    model = TrinomialTreeModel(S, K, T, r, q, C=price, n=50, payoff=call_payoff)\n",
    "    vol_bisec = model.implied_vol('bisection')\n",
    "    #vol_newton = model.implied_vol('newton')\n",
    "    #print(\"tree implied vol(newton):{:.3f}, bisect:{:.3f}\".format(vol_newton, vol_bisec)) \n",
    "    print(\"tree implied vol(newton):N/A, bisect:{:.3f}\".format(vol_bisec)) \n",
    "    print(\"*\"*40)"
   ]
  },
  {
   "cell_type": "code",
   "execution_count": 19,
   "id": "specific-allocation",
   "metadata": {},
   "outputs": [],
   "source": [
    "S, K, T, r, q  = 110, 80, 1, 0.09, 0.0\n",
    "curr, prev = 0, 0\n",
    "for i in range(1, 100):\n",
    "    sigma = 0.01 * i\n",
    "    model = TrinomialTreeModel(S, K, T, r, q, sigma=sigma, n=50)\n",
    "    curr = model.npv()\n",
    "    #print(\"sigma:{}, price:{}\".format(sigma, model.npv()))\n",
    "    assert curr > prev\n",
    "    curr = prev"
   ]
  },
  {
   "cell_type": "markdown",
   "id": "unnecessary-apparatus",
   "metadata": {},
   "source": [
    "## Test greeks"
   ]
  },
  {
   "cell_type": "code",
   "execution_count": 20,
   "id": "coupled-terrorism",
   "metadata": {},
   "outputs": [],
   "source": [
    "import pandas as pd"
   ]
  },
  {
   "cell_type": "code",
   "execution_count": 21,
   "id": "frank-atlanta",
   "metadata": {},
   "outputs": [],
   "source": [
    "#pd.options.display.float_format = '{:,.3f}'.format"
   ]
  },
  {
   "cell_type": "code",
   "execution_count": 22,
   "id": "waiting-sarah",
   "metadata": {},
   "outputs": [
    {
     "name": "stdout",
     "output_type": "stream",
     "text": [
      "Test call greeks\n",
      "greek:price, bs:2.927,model:2.922, expected:2.927\n",
      "greek:delta, bs:0.472,model:0.448, expected:0.472\n",
      "greek:gamma, bs:0.036,model:0.039, expected:0.036\n",
      "greek:vega, bs:13.015,model:12.890, expected:13.015\n",
      "greek:theta, bs:-0.788,model:-0.769, expected:-0.788\n",
      "greek:rho, bs:19.554,model:19.533, expected:19.554\n",
      "***************\n",
      "Test put greeks\n",
      "greek:price, bs:5.609,model:5.605, expected:5.609\n",
      "greek:delta, bs:-0.470,model:-0.494, expected:-0.47\n",
      "greek:gamma, bs:0.036,model:0.039, expected:0.036\n",
      "greek:vega, bs:13.015,model:12.890, expected:13.015\n",
      "greek:theta, bs:-0.089,model:-0.070, expected:-0.089\n",
      "greek:rho, bs:-44.999,model:-45.030, expected:-44.999\n"
     ]
    }
   ],
   "source": [
    "def utils_bs_greeks(S, K, T, r, q, sigma, call):\n",
    "\n",
    "    p = call.price(S, K, T, r, q, sigma)\n",
    "    d = call.delta(S, K, T, r, q, sigma)\n",
    "    g = call.gamma(S, K, T, r, q, sigma)\n",
    "    v = call.vega(S, K, T, r, q, sigma)\n",
    "    t = call.theta(S, K, T, r, q, sigma)\n",
    "    r = call.rho(S, K, T, r, q, sigma)  \n",
    "    return [p, d, g, v, t, r]\n",
    "\n",
    "def test_greeks():\n",
    "    \n",
    "    S, K, T, r, q, sigma = 20, 25, 3, 0.05, 0.02, 0.3\n",
    "    \n",
    "    # test call\n",
    "    call = Call(S, K, T, r, q, sigma)\n",
    "    res1 = utils_bs_greeks(S, K, T, r, q, sigma, call)\n",
    "    model = TrinomialTreeModel(S, K, T, r, q, sigma)\n",
    "    model_res1 = model.greeks()\n",
    "\n",
    "    greek_name = ['price', 'delta', 'gamma', 'vega', 'theta', 'rho']\n",
    "    expected1 = [2.927, 0.472, 0.036, 13.015, -0.788, 19.554]\n",
    "    print(\"Test call greeks\")\n",
    "    for i in range(len(res1)):\n",
    "        greek = greek_name[i]\n",
    "        print(\"greek:{}, bs:{:.3f},model:{:.3f}, expected:{}\".format(\n",
    "                greek, res1[i], model_res1[greek], expected1[i]))\n",
    "        if np.abs(res1[i] - expected1[i]) > 0.01: assert False\n",
    "        #if np.abs(model_res1[greek] - expected1[i]) > 0.01: assert False\n",
    "\n",
    "        \n",
    "    print(\"*\"*15)\n",
    "\n",
    "    put = Put(S, K, T, r, q, sigma)\n",
    "    res2 = utils_bs_greeks(S, K, T, r, q, sigma, put)\n",
    "    model2 = TrinomialTreeModel(S, K, T, r, q, sigma, payoff=put_payoff)\n",
    "    model_res2 = model2.greeks()\n",
    "    \n",
    "    expected2 = [5.609, -0.470, 0.036, 13.015, -0.089, -44.999]\n",
    "    print(\"Test put greeks\")\n",
    "    assert res1[2] == res2[2] # gamma\n",
    "    assert res1[3] == res2[3] # vega \n",
    "    #assert model_res1['gamma'] == model_res2['gamma']\n",
    "    #assert model_res1['vega'] == model_res2['vega']\n",
    "\n",
    "    \n",
    "    for i in range(len(res2)):\n",
    "        greek = greek_name[i]\n",
    "\n",
    "        print(\"greek:{}, bs:{:.3f},model:{:.3f}, expected:{}\".format(\n",
    "                greek, res2[i], model_res2[greek], expected2[i]))\n",
    "        if np.abs(res2[i] - expected2[i]) > 0.01: assert False\n",
    "        #if np.abs(model_res2[greek] - expected1[i]) > 0.01: assert False\n",
    "\n",
    "test_greeks()\n",
    "\n",
    "\n"
   ]
  },
  {
   "cell_type": "markdown",
   "id": "corrected-mining",
   "metadata": {},
   "source": [
    "## Test Trinomial Tree"
   ]
  },
  {
   "cell_type": "code",
   "execution_count": 24,
   "id": "bottom-briefing",
   "metadata": {},
   "outputs": [],
   "source": [
    "import matplotlib.pyplot as plt\n",
    "%matplotlib inline\n",
    "\n",
    "    \n",
    "def util_convergence_plot(steps, results, black_schole, test_input):\n",
    "    plt.plot(steps, results, label='Trinomial tree model')\n",
    "    plt.axhline(y=black_schole, xmin=0, xmax=steps[-1], \n",
    "                color='r', linestyle='-.', linewidth=3, \n",
    "                label='Black-Scholes')\n",
    "    plt.xlabel(\"Steps (T/dt)\")\n",
    "    plt.ylabel(\"initial option value\")\n",
    "    plt.title(\"Black-Scholes vs Trinomial Tree Model\")  \n",
    "    plt.legend()\n",
    "    \n",
    "    if test_input['payoff'] == call_payoff:\n",
    "        test_input['payoff'] = \"call\"\n",
    "    else:\n",
    "        test_input['payoff'] = \"put\"\n",
    "\n",
    "    prefix = \"_\".join([str(key)+\"_\"+str(val) for  \n",
    "                   key,val in test_input.items()])\n",
    "\n",
    "    plt.savefig(prefix+'.jpg', bbox_inches='tight', dpi=150)\n",
    "    plt.show()\n",
    "    print(\"Black Schole formula {}\".format(black_schole))\n",
    "\n",
    "# test-1 euro-call, with, N = 5, 10, 15, 20\n",
    "def util_steps(test_input):\n",
    "    print(test_input)\n",
    "    bs_input = test_input.copy()\n",
    "    bs_input.pop('payoff', None)\n",
    "    bs_call = Call(**bs_input).price(**bs_input)\n",
    "    bs_put = Put(**bs_input).price(**bs_input)\n",
    "\n",
    "    results = []\n",
    "    steps = range(5, 205, 5)\n",
    "    for n in steps:\n",
    "        test_input['n'] = n\n",
    "            \n",
    "        model = TrinomialTreeModel(**test_input)\n",
    "        initial_opt = model.npv()\n",
    "        results.append(initial_opt)\n",
    "    if test_input.get('payoff', 0) == put_payoff:\n",
    "        bs_result = bs_put\n",
    "    else:\n",
    "        bs_result = bs_call\n",
    "    \n",
    "    util_convergence_plot(steps, results, bs_result, test_input)\n",
    "def test_euro_call_convergence():\n",
    "\n",
    "    test_input1 = {'S':20, 'T':3, 'r':0.05, \n",
    "                   'sigma':0.3, 'q':0.02, 'K':25, \n",
    "                   'payoff':call_payoff}\n",
    "    # High stock price\n",
    "    test_input2 = {'S':100, 'T':3, 'r':0.15, \n",
    "                   'sigma':0.5, 'q':0.04, 'K':65,\n",
    "                  'payoff':call_payoff}\n",
    "    # Low stock price\n",
    "    test_input3 = {'S':42, 'T':0.75, 'K':40, 'r':0.04, \n",
    "                   'q':0.08, 'sigma':0.35,\n",
    "                   'payoff':call_payoff}\n",
    "    tests = [test_input1, test_input2, test_input3]\n",
    "    for test in tests:\n",
    "        util_steps(test)\n",
    "    \n",
    "def test_euro_put_convergence():\n",
    "\n",
    "    test_input1 = {'S':20, 'T':3, 'r':0.05, 'sigma':0.3, \n",
    "                   'q':0.02, 'K':25, 'payoff':put_payoff}\n",
    "    test_input2 = {'S':127, 'T':1, 'r':0.1, 'sigma':0.2, \n",
    "                   'q':0.03, 'K':130, 'payoff':put_payoff}\n",
    "\n",
    "    tests = [test_input1, test_input2]\n",
    "    for test in tests:\n",
    "        util_steps(test)\n",
    "        \n",
    "def test_put_call_parity():\n",
    "    params = {'S':20, 'T':3, 'r':0.05, \n",
    "              'sigma':0.3, 'q':0.02, 'K':25}\n",
    "    call = Call(**params).price(**params)\n",
    "    put = Put(**params).price(**params)\n",
    "    \n",
    "    K, r, T, S0, q = params['K'], params['r'], params['T'], params['S'], params['q']\n",
    "    assert call + K * np.exp(-r*T) == put + S0 * np.exp(-q*T)"
   ]
  },
  {
   "cell_type": "code",
   "execution_count": 25,
   "id": "compatible-purple",
   "metadata": {},
   "outputs": [
    {
     "name": "stdout",
     "output_type": "stream",
     "text": [
      "{'S': 20, 'T': 3, 'r': 0.05, 'sigma': 0.3, 'q': 0.02, 'K': 25, 'payoff': <function call_payoff at 0x7fc0148e5280>}\n"
     ]
    },
    {
     "data": {
      "image/png": "[encoded data removed]",
      "text/plain": [
       "<Figure size 432x288 with 1 Axes>"
      ]
     },
     "metadata": {
      "needs_background": "light"
     },
     "output_type": "display_data"
    },
    {
     "name": "stdout",
     "output_type": "stream",
     "text": [
      "Black Schole formula 2.926514379207199\n",
      "{'S': 100, 'T': 3, 'r': 0.15, 'sigma': 0.5, 'q': 0.04, 'K': 65, 'payoff': <function call_payoff at 0x7fc0148e5280>}\n"
     ]
    },
    {
     "data": {
      "image/png": "[encoded data removed]",
      "text/plain": [
       "<Figure size 432x288 with 1 Axes>"
      ]
     },
     "metadata": {
      "needs_background": "light"
     },
     "output_type": "display_data"
    },
    {
     "name": "stdout",
     "output_type": "stream",
     "text": [
      "Black Schole formula 52.42801771170506\n",
      "{'S': 42, 'T': 0.75, 'K': 40, 'r': 0.04, 'q': 0.08, 'sigma': 0.35, 'payoff': <function call_payoff at 0x7fc0148e5280>}\n"
     ]
    },
    {
     "data": {
      "image/png": "[encoded data removed]",
      "text/plain": [
       "<Figure size 432x288 with 1 Axes>"
      ]
     },
     "metadata": {
      "needs_background": "light"
     },
     "output_type": "display_data"
    },
    {
     "name": "stdout",
     "output_type": "stream",
     "text": [
      "Black Schole formula 5.097547717726165\n"
     ]
    }
   ],
   "source": [
    "# # test parity\n",
    "test_put_call_parity()\n",
    "# black-schole vs trinomial\n",
    "test_euro_call_convergence()"
   ]
  },
  {
   "cell_type": "code",
   "execution_count": 26,
   "id": "computational-metallic",
   "metadata": {},
   "outputs": [
    {
     "name": "stdout",
     "output_type": "stream",
     "text": [
      "{'S': 20, 'T': 3, 'r': 0.05, 'sigma': 0.3, 'q': 0.02, 'K': 25, 'payoff': <function put_payoff at 0x7fc0148b3550>}\n"
     ]
    },
    {
     "data": {
      "image/png": "[encoded data removed]",
      "text/plain": [
       "<Figure size 432x288 with 1 Axes>"
      ]
     },
     "metadata": {
      "needs_background": "light"
     },
     "output_type": "display_data"
    },
    {
     "name": "stdout",
     "output_type": "stream",
     "text": [
      "Black Schole formula 5.60892311814867\n",
      "{'S': 127, 'T': 1, 'r': 0.1, 'sigma': 0.2, 'q': 0.03, 'K': 130, 'payoff': <function put_payoff at 0x7fc0148b3550>}\n"
     ]
    },
    {
     "data": {
      "image/png": "[encoded data removed]",
      "text/plain": [
       "<Figure size 432x288 with 1 Axes>"
      ]
     },
     "metadata": {
      "needs_background": "light"
     },
     "output_type": "display_data"
    },
    {
     "name": "stdout",
     "output_type": "stream",
     "text": [
      "Black Schole formula 7.043588948483908\n"
     ]
    }
   ],
   "source": [
    "test_euro_put_convergence()"
   ]
  },
  {
   "cell_type": "code",
   "execution_count": null,
   "id": "insured-bishop",
   "metadata": {},
   "outputs": [],
   "source": []
  },
  {
   "cell_type": "code",
   "execution_count": null,
   "id": "scheduled-output",
   "metadata": {},
   "outputs": [],
   "source": []
  }
 ],
 "metadata": {
  "kernelspec": {
   "display_name": "Python 3",
   "language": "python",
   "name": "python3"
  },
  "language_info": {
   "codemirror_mode": {
    "name": "ipython",
    "version": 3
   },
   "file_extension": ".py",
   "mimetype": "text/x-python",
   "name": "python",
   "nbconvert_exporter": "python",
   "pygments_lexer": "ipython3",
   "version": "3.8.7"
  },
  "toc": {
   "colors": {
    "hover_highlight": "#DAA520",
    "running_highlight": "#FF0000",
    "selected_highlight": "#FFD700"
   },
   "moveMenuLeft": true,
   "nav_menu": {
    "height": "86.25px",
    "width": "251.989px"
   },
   "navigate_menu": true,
   "number_sections": true,
   "sideBar": false,
   "threshold": 4,
   "toc_cell": true,
   "toc_position": {
    "height": "663.466px",
    "left": "1.99432px",
    "right": "1533.47px",
    "top": "110.028px",
    "width": "140px"
   },
   "toc_section_display": "block",
   "toc_window_display": true,
   "widenNotebook": false
  }
 },
 "nbformat": 4,
 "nbformat_minor": 5
}
