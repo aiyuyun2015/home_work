{
 "cells": [
  {
   "cell_type": "markdown",
   "id": "wooden-ordinary",
   "metadata": {
    "toc": "true"
   },
   "source": [
    "# Table of Contents\n",
    " <p><div class=\"lev2 toc-item\"><a href=\"#Solution-to-problem-2\" data-toc-modified-id=\"Solution-to-problem-2-01\"><span class=\"toc-item-num\">0.1&nbsp;&nbsp;</span>Solution to problem 2</a></div><div class=\"lev2 toc-item\"><a href=\"#Sanity-Check\" data-toc-modified-id=\"Sanity-Check-02\"><span class=\"toc-item-num\">0.2&nbsp;&nbsp;</span>Sanity Check</a></div>"
   ]
  },
  {
   "cell_type": "markdown",
   "id": "dominant-vault",
   "metadata": {},
   "source": [
    "## Solution to problem 2"
   ]
  },
  {
   "cell_type": "code",
   "execution_count": 1,
   "id": "soviet-filing",
   "metadata": {},
   "outputs": [],
   "source": [
    "import pandas as pd\n",
    "import numpy as np\n",
    "import h5py\n"
   ]
  },
  {
   "cell_type": "code",
   "execution_count": 12,
   "id": "bottom-cabin",
   "metadata": {},
   "outputs": [],
   "source": [
    "class Converter():\n",
    "    def __init__(self):\n",
    "        self.datasets = {}\n",
    "        self.tree = []\n",
    "        self.df = None\n",
    "        self.checksum = {} # for sanity check\n",
    "        \n",
    "    def __call__(self, name, node):\n",
    "        if isinstance(node, h5py.Dataset):\n",
    "            self.datasets[name] = node\n",
    "        # Save to print like a direcotry tree\n",
    "        shift = name.count('/') * '    '\n",
    "        item_name = name.split(\"/\")[-1]\n",
    "        self.tree.append(shift + item_name + \"\\n\")\n",
    "        return None\n",
    "    \n",
    "    def __str__(self):\n",
    "        return \"\".join(self.tree)\n",
    "    \n",
    "    def to_dataframe(self):\n",
    "        if self.df: \n",
    "            return self.df\n",
    "        dfs = []\n",
    "        for name, node in self.datasets.items():\n",
    "            df = pd.DataFrame(node, dtype=None) # infer float/int 64\n",
    "            self.checksum[name] = df.sum(axis=0)\n",
    "            new_cols = [name.split('/')[-1] + \n",
    "                        \"_\" + str(col) for col in df.columns]\n",
    "            df = df.rename(columns=dict(zip(df.columns, new_cols)))\n",
    "            dfs.append(df)\n",
    "        self.df = pd.concat(dfs, axis=1)\n",
    "        return self.df"
   ]
  },
  {
   "cell_type": "code",
   "execution_count": 13,
   "id": "hollow-peninsula",
   "metadata": {},
   "outputs": [],
   "source": [
    "filename = \"sample.h5\""
   ]
  },
  {
   "cell_type": "code",
   "execution_count": 53,
   "id": "vital-dominican",
   "metadata": {},
   "outputs": [
    {
     "name": "stdout",
     "output_type": "stream",
     "text": [
      "Tree hierachy:\n",
      "tick\n",
      "    ask_px\n",
      "    ask_vol\n",
      "    bid_px\n",
      "    bid_vol\n",
      "    high_px\n",
      "    last_px\n",
      "    low_px\n",
      "    open_interest\n",
      "    status\n",
      "    time\n",
      "    turnover\n",
      "    unix\n",
      "    volume\n",
      "\n"
     ]
    }
   ],
   "source": [
    "with h5py.File(filename, \"r\") as f:\n",
    "    data = Converter()\n",
    "    f.visititems(data)\n",
    "    print(\"Tree hierachy:\")\n",
    "    print(data)\n",
    "    df = data.to_dataframe()\n",
    "    \n"
   ]
  },
  {
   "cell_type": "code",
   "execution_count": 15,
   "id": "median-morgan",
   "metadata": {
    "scrolled": true
   },
   "outputs": [
    {
     "data": {
      "text/html": [
       "<div>\n",
       "<style scoped>\n",
       "    .dataframe tbody tr th:only-of-type {\n",
       "        vertical-align: middle;\n",
       "    }\n",
       "\n",
       "    .dataframe tbody tr th {\n",
       "        vertical-align: top;\n",
       "    }\n",
       "\n",
       "    .dataframe thead th {\n",
       "        text-align: right;\n",
       "    }\n",
       "</style>\n",
       "<table border=\"1\" class=\"dataframe\">\n",
       "  <thead>\n",
       "    <tr style=\"text-align: right;\">\n",
       "      <th></th>\n",
       "      <th>ask_px_0</th>\n",
       "      <th>ask_px_1</th>\n",
       "      <th>ask_px_2</th>\n",
       "      <th>ask_px_3</th>\n",
       "      <th>ask_px_4</th>\n",
       "      <th>ask_vol_0</th>\n",
       "      <th>ask_vol_1</th>\n",
       "      <th>ask_vol_2</th>\n",
       "      <th>ask_vol_3</th>\n",
       "      <th>ask_vol_4</th>\n",
       "      <th>...</th>\n",
       "      <th>bid_vol_4</th>\n",
       "      <th>high_px_0</th>\n",
       "      <th>last_px_0</th>\n",
       "      <th>low_px_0</th>\n",
       "      <th>open_interest_0</th>\n",
       "      <th>status_0</th>\n",
       "      <th>time_0</th>\n",
       "      <th>turnover_0</th>\n",
       "      <th>unix_0</th>\n",
       "      <th>volume_0</th>\n",
       "    </tr>\n",
       "  </thead>\n",
       "  <tbody>\n",
       "    <tr>\n",
       "      <th>0</th>\n",
       "      <td>NaN</td>\n",
       "      <td>NaN</td>\n",
       "      <td>NaN</td>\n",
       "      <td>NaN</td>\n",
       "      <td>NaN</td>\n",
       "      <td>0</td>\n",
       "      <td>0</td>\n",
       "      <td>0</td>\n",
       "      <td>0</td>\n",
       "      <td>0</td>\n",
       "      <td>...</td>\n",
       "      <td>0</td>\n",
       "      <td>NaN</td>\n",
       "      <td>3671.4</td>\n",
       "      <td>NaN</td>\n",
       "      <td>138633</td>\n",
       "      <td>2</td>\n",
       "      <td>1420528084100000000</td>\n",
       "      <td>0.0</td>\n",
       "      <td>1420499284100000000</td>\n",
       "      <td>0</td>\n",
       "    </tr>\n",
       "    <tr>\n",
       "      <th>1</th>\n",
       "      <td>3664.0</td>\n",
       "      <td>3665.0</td>\n",
       "      <td>3665.8</td>\n",
       "      <td>3666.0</td>\n",
       "      <td>3666.6</td>\n",
       "      <td>13</td>\n",
       "      <td>8</td>\n",
       "      <td>1</td>\n",
       "      <td>25</td>\n",
       "      <td>3</td>\n",
       "      <td>...</td>\n",
       "      <td>5</td>\n",
       "      <td>NaN</td>\n",
       "      <td>3664.0</td>\n",
       "      <td>NaN</td>\n",
       "      <td>138768</td>\n",
       "      <td>2</td>\n",
       "      <td>1420535640100000000</td>\n",
       "      <td>877161600.0</td>\n",
       "      <td>1420506840100000000</td>\n",
       "      <td>798</td>\n",
       "    </tr>\n",
       "    <tr>\n",
       "      <th>2</th>\n",
       "      <td>3663.0</td>\n",
       "      <td>3663.8</td>\n",
       "      <td>3664.0</td>\n",
       "      <td>3664.6</td>\n",
       "      <td>3664.8</td>\n",
       "      <td>5</td>\n",
       "      <td>8</td>\n",
       "      <td>14</td>\n",
       "      <td>1</td>\n",
       "      <td>1</td>\n",
       "      <td>...</td>\n",
       "      <td>5</td>\n",
       "      <td>NaN</td>\n",
       "      <td>3663.0</td>\n",
       "      <td>NaN</td>\n",
       "      <td>138790</td>\n",
       "      <td>2</td>\n",
       "      <td>1420535700100000000</td>\n",
       "      <td>957376200.0</td>\n",
       "      <td>1420506900100000000</td>\n",
       "      <td>871</td>\n",
       "    </tr>\n",
       "  </tbody>\n",
       "</table>\n",
       "<p>3 rows × 29 columns</p>\n",
       "</div>"
      ],
      "text/plain": [
       "   ask_px_0  ask_px_1  ask_px_2  ask_px_3  ask_px_4  ask_vol_0  ask_vol_1  \\\n",
       "0       NaN       NaN       NaN       NaN       NaN          0          0   \n",
       "1    3664.0    3665.0    3665.8    3666.0    3666.6         13          8   \n",
       "2    3663.0    3663.8    3664.0    3664.6    3664.8          5          8   \n",
       "\n",
       "   ask_vol_2  ask_vol_3  ask_vol_4  ...  bid_vol_4  high_px_0  last_px_0  \\\n",
       "0          0          0          0  ...          0        NaN     3671.4   \n",
       "1          1         25          3  ...          5        NaN     3664.0   \n",
       "2         14          1          1  ...          5        NaN     3663.0   \n",
       "\n",
       "   low_px_0  open_interest_0  status_0               time_0   turnover_0  \\\n",
       "0       NaN           138633         2  1420528084100000000          0.0   \n",
       "1       NaN           138768         2  1420535640100000000  877161600.0   \n",
       "2       NaN           138790         2  1420535700100000000  957376200.0   \n",
       "\n",
       "                unix_0  volume_0  \n",
       "0  1420499284100000000         0  \n",
       "1  1420506840100000000       798  \n",
       "2  1420506900100000000       871  \n",
       "\n",
       "[3 rows x 29 columns]"
      ]
     },
     "execution_count": 15,
     "metadata": {},
     "output_type": "execute_result"
    }
   ],
   "source": [
    "df.head(3)"
   ]
  },
  {
   "cell_type": "code",
   "execution_count": 16,
   "id": "subsequent-ordinance",
   "metadata": {},
   "outputs": [
    {
     "data": {
      "text/plain": [
       "Index(['ask_px_0', 'ask_px_1', 'ask_px_2', 'ask_px_3', 'ask_px_4', 'ask_vol_0',\n",
       "       'ask_vol_1', 'ask_vol_2', 'ask_vol_3', 'ask_vol_4', 'bid_px_0',\n",
       "       'bid_px_1', 'bid_px_2', 'bid_px_3', 'bid_px_4', 'bid_vol_0',\n",
       "       'bid_vol_1', 'bid_vol_2', 'bid_vol_3', 'bid_vol_4', 'high_px_0',\n",
       "       'last_px_0', 'low_px_0', 'open_interest_0', 'status_0', 'time_0',\n",
       "       'turnover_0', 'unix_0', 'volume_0'],\n",
       "      dtype='object')"
      ]
     },
     "execution_count": 16,
     "metadata": {},
     "output_type": "execute_result"
    }
   ],
   "source": [
    "df.columns"
   ]
  },
  {
   "cell_type": "code",
   "execution_count": 17,
   "id": "revolutionary-planet",
   "metadata": {},
   "outputs": [],
   "source": [
    "df.to_csv(\"sample.csv\", index=False)"
   ]
  },
  {
   "cell_type": "code",
   "execution_count": null,
   "id": "distributed-vocabulary",
   "metadata": {},
   "outputs": [],
   "source": []
  },
  {
   "cell_type": "markdown",
   "id": "reliable-submission",
   "metadata": {},
   "source": [
    "## Sanity Check"
   ]
  },
  {
   "cell_type": "code",
   "execution_count": 48,
   "id": "concerned-guess",
   "metadata": {},
   "outputs": [],
   "source": [
    "# checksum includes sum of each column in h5, df.sum() \n",
    "# returns the sum in the combined dataframe"
   ]
  },
  {
   "cell_type": "code",
   "execution_count": 44,
   "id": "spread-confidence",
   "metadata": {},
   "outputs": [],
   "source": [
    "checksum = pd.Series([col_sum for i in data.checksum.values() for col_sum in i.values])"
   ]
  },
  {
   "cell_type": "code",
   "execution_count": 52,
   "id": "eastern-tomorrow",
   "metadata": {},
   "outputs": [],
   "source": [
    "assert ( (checksum - df.sum().values) == np.zeros_like(29) ).all()"
   ]
  },
  {
   "cell_type": "code",
   "execution_count": null,
   "id": "distant-pride",
   "metadata": {},
   "outputs": [],
   "source": []
  }
 ],
 "metadata": {
  "kernelspec": {
   "display_name": "Python 3",
   "language": "python",
   "name": "python3"
  },
  "language_info": {
   "codemirror_mode": {
    "name": "ipython",
    "version": 3
   },
   "file_extension": ".py",
   "mimetype": "text/x-python",
   "name": "python",
   "nbconvert_exporter": "python",
   "pygments_lexer": "ipython3",
   "version": "3.8.7"
  },
  "toc": {
   "colors": {
    "hover_highlight": "#DAA520",
    "running_highlight": "#FF0000",
    "selected_highlight": "#FFD700"
   },
   "moveMenuLeft": true,
   "nav_menu": {
    "height": "49.1193px",
    "width": "251.989px"
   },
   "navigate_menu": true,
   "number_sections": true,
   "sideBar": true,
   "threshold": 4,
   "toc_cell": true,
   "toc_section_display": "block",
   "toc_window_display": true,
   "widenNotebook": false
  }
 },
 "nbformat": 4,
 "nbformat_minor": 5
}
